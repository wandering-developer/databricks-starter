{
 "cells": [
  {
   "cell_type": "markdown",
   "metadata": {
    "application/vnd.databricks.v1+cell": {
     "cellMetadata": {
      "byteLimit": 2048000,
      "rowLimit": 10000
     },
     "inputWidgets": {},
     "nuid": "b432c0d5-5383-4b39-a953-cacedaa361a5",
     "showTitle": false,
     "tableResultSettingsMap": {},
     "title": ""
    }
   },
   "source": [
    "###Hello Databricks!\n"
   ]
  },
  {
   "cell_type": "code",
   "execution_count": 0,
   "metadata": {
    "application/vnd.databricks.v1+cell": {
     "cellMetadata": {
      "byteLimit": 2048000,
      "rowLimit": 10000
     },
     "inputWidgets": {},
     "nuid": "9cfcc10b-ea29-4954-a65e-7e1ac243fbc4",
     "showTitle": false,
     "tableResultSettingsMap": {},
     "title": ""
    }
   },
   "outputs": [],
   "source": [
    "print(\"Starting first databricks here. Conncted to GitHub Personal Repo...\")"
   ]
  },
  {
   "cell_type": "code",
   "execution_count": 0,
   "metadata": {
    "application/vnd.databricks.v1+cell": {
     "cellMetadata": {
      "byteLimit": 2048000,
      "rowLimit": 10000
     },
     "inputWidgets": {},
     "nuid": "31cd7a3f-9d55-4c38-9afa-6d04d2c5a54a",
     "showTitle": false,
     "tableResultSettingsMap": {},
     "title": ""
    }
   },
   "outputs": [],
   "source": [
    "def print_hello(name):\n",
    "    print(f\"Hello {name}..\")\n",
    "print_hello(name=\"Onkar\")"
   ]
  },
  {
   "cell_type": "code",
   "execution_count": 0,
   "metadata": {
    "application/vnd.databricks.v1+cell": {
     "cellMetadata": {
      "byteLimit": 2048000,
      "rowLimit": 10000
     },
     "inputWidgets": {},
     "nuid": "ce0d6394-c086-45fb-bfe3-fed4ff6954ab",
     "showTitle": false,
     "tableResultSettingsMap": {},
     "title": ""
    }
   },
   "outputs": [],
   "source": [
    "some_data = [{\"name\": \"Onkar\", \"age\": 30, \"salary\": 100000, \"city\" : \"Helsingborg\",\"role\":\"Data Engineer\",\"department\":\"Range Ops\"},\n",
    "             {\"name\": \"Ashok\", \"age\": 32, \"salary\": 200000, \"city\" : \"Malmö\",\"role\":\"Software Engineer\",\"department\":\"Range Exp\"},\n",
    "             {\"name\": \"Shreyas\", \"age\": 25, \"salary\": 150000, \"city\" : \"Stockholm\",\"role\":\"Senior Software Engineer\",\"department\":\"FCS\"},\n",
    "             {\"name\": \"Chetan\", \"age\": 35, \"salary\": 350000, \"city\" : \"Älmhult\",\"role\":\"Engineering Manager\",\"department\":\"Marketing\"},\n",
    "             {\"name\": \"Joseph\", \"age\": 25, \"salary\": 250000, \"city\" : \"Gothenburg\",\"role\":\"Store Manager\",\"department\":\"Retail\"},\n",
    "             {\"name\": \"Rohini\", \"age\": 25, \"salary\": 100000, \"city\" : \"Gothenburg\",\"role\":\"Associate\",\"department\":\"retail\"},\n",
    "             {\"name\": \"Manan\", \"age\": 26, \"salary\": 170000, \"city\" : \"Gothenburg\",\"role\":\"Senior Associate\",\"department\":\"REtail\"}]\n",
    "schema = \"name string, age int, salary int, city string, role string, department string\"\n",
    "df = spark.createDataFrame(some_data, schema=schema)\n",
    "display(df)\n",
    "df.printSchema()"
   ]
  },
  {
   "cell_type": "code",
   "execution_count": 0,
   "metadata": {
    "application/vnd.databricks.v1+cell": {
     "cellMetadata": {
      "byteLimit": 2048000,
      "rowLimit": 10000
     },
     "inputWidgets": {},
     "nuid": "9ce8da08-6aa3-4348-8b60-2e7442d1b4f8",
     "showTitle": false,
     "tableResultSettingsMap": {},
     "title": ""
    }
   },
   "outputs": [],
   "source": [
    "df.filter(df.city=='Gothenburg').show()"
   ]
  },
  {
   "cell_type": "code",
   "execution_count": 0,
   "metadata": {
    "application/vnd.databricks.v1+cell": {
     "cellMetadata": {
      "byteLimit": 2048000,
      "rowLimit": 10000
     },
     "inputWidgets": {},
     "nuid": "e0aa955a-570f-43e5-bf37-e14abce667fb",
     "showTitle": false,
     "tableResultSettingsMap": {},
     "title": ""
    }
   },
   "outputs": [],
   "source": [
    "from pyspark.sql.functions import lower, max\n",
    "df_goth = df.filter(lower(df.department)=='retail')\n",
    "display(df_goth)\n",
    "from pyspark.sql.functions import max as max_agg; df_goth.filter(df_goth.salary == df_goth.agg(max_agg(\"salary\")).collect()[0][0]).show()"
   ]
  },
  {
   "cell_type": "markdown",
   "metadata": {
    "application/vnd.databricks.v1+cell": {
     "cellMetadata": {
      "byteLimit": 2048000,
      "rowLimit": 10000
     },
     "inputWidgets": {},
     "nuid": "e32182e1-fe0a-420f-b9a6-1a5aca82e003",
     "showTitle": false,
     "tableResultSettingsMap": {},
     "title": ""
    }
   },
   "source": [
    "#### We want to access secrets stored in Azure Key Vault in the Databricks environment. For that first we create Azure Key Vault under the same resource group in Azure portal. Update Access Policy of Azure Key Vault to use Vault Based Permission Model in Settings --> Access Configuration. Then give access to Databricks application under Access Policies tab. We then create secret scope in Databricks environment with URL [databricks_workspace_url]#secrets/createScope. Provide Key Vault URL and resource ID (found in key vault Settings --> Properties)."
   ]
  },
  {
   "cell_type": "code",
   "execution_count": 0,
   "metadata": {
    "application/vnd.databricks.v1+cell": {
     "cellMetadata": {
      "byteLimit": 2048000,
      "rowLimit": 10000
     },
     "inputWidgets": {},
     "nuid": "e8a16c3d-530d-46ec-b2ec-ba171a0848d6",
     "showTitle": false,
     "tableResultSettingsMap": {},
     "title": ""
    }
   },
   "outputs": [],
   "source": [
    "dbutils.secrets.listScopes()"
   ]
  },
  {
   "cell_type": "markdown",
   "metadata": {
    "application/vnd.databricks.v1+cell": {
     "cellMetadata": {
      "byteLimit": 2048000,
      "rowLimit": 10000
     },
     "inputWidgets": {},
     "nuid": "abf2e600-acfd-4991-abbf-669123a26e00",
     "showTitle": false,
     "tableResultSettingsMap": {},
     "title": ""
    }
   },
   "source": [
    "#### Read more about databricks utilities here --> https://docs.databricks.com/aws/en/dev-tools/databricks-utils. dbutils secret utility lets you access env secrets and credentials in the databricks notebooks. Secrets are stored in Azure Key Vault. And key vault is scoped in Secret Scope under databricks."
   ]
  },
  {
   "cell_type": "code",
   "execution_count": 0,
   "metadata": {
    "application/vnd.databricks.v1+cell": {
     "cellMetadata": {
      "byteLimit": 2048000,
      "rowLimit": 10000
     },
     "inputWidgets": {},
     "nuid": "860e4b8f-1be1-4439-84ac-62f65f7f1b75",
     "showTitle": false,
     "tableResultSettingsMap": {},
     "title": ""
    }
   },
   "outputs": [],
   "source": [
    "dbutils.secrets.list('db-secret-scope')"
   ]
  },
  {
   "cell_type": "code",
   "execution_count": 0,
   "metadata": {
    "application/vnd.databricks.v1+cell": {
     "cellMetadata": {
      "byteLimit": 2048000,
      "rowLimit": 10000
     },
     "inputWidgets": {},
     "nuid": "1cc84fbd-65d7-472e-b2d9-f540c08a3ed1",
     "showTitle": false,
     "tableResultSettingsMap": {},
     "title": ""
    }
   },
   "outputs": [],
   "source": [
    "app_client_id = dbutils.secrets.get(scope='db-secret-scope', key='app-client-id')\n",
    "app_tenant_id = dbutils.secrets.get(scope='db-secret-scope', key='app-tenant-id')\n",
    "app_client_secret = dbutils.secrets.get(scope='db-secret-scope', key='app-secret')\n",
    "print(app_client_id)\n",
    "print(app_tenant_id)\n",
    "print(app_client_secret)"
   ]
  },
  {
   "cell_type": "markdown",
   "metadata": {
    "application/vnd.databricks.v1+cell": {
     "cellMetadata": {
      "byteLimit": 2048000,
      "rowLimit": 10000
     },
     "inputWidgets": {},
     "nuid": "ff68fdfe-f15d-41d4-9e50-eead7145236d",
     "showTitle": false,
     "tableResultSettingsMap": {},
     "title": ""
    }
   },
   "source": [
    "### Widgets are databricks utilities that lets you accept user inputs in the form of text box, dropdown or multi select. These inputs can be used in notebooks as user inputs. widgets help make notebook parameterized."
   ]
  },
  {
   "cell_type": "code",
   "execution_count": 0,
   "metadata": {
    "application/vnd.databricks.v1+cell": {
     "cellMetadata": {
      "byteLimit": 2048000,
      "rowLimit": 10000
     },
     "inputWidgets": {},
     "nuid": "93082a61-1359-4c88-a9b6-d0ed6f0233d8",
     "showTitle": false,
     "tableResultSettingsMap": {},
     "title": ""
    }
   },
   "outputs": [],
   "source": [
    "dbutils.widgets.dropdown(\"env\", \"dev\", [\"dev\", \"test\", \"prod\"])\n",
    "env = dbutils.widgets.get(\"env\")\n",
    "print(env)\n",
    "dbutils.widgets.multiselect(\"env1\", \"dev\", [\"dev\", \"test\", \"prod\"])\n",
    "env = dbutils.widgets.get(\"env1\")\n",
    "print(env)"
   ]
  },
  {
   "cell_type": "markdown",
   "metadata": {
    "application/vnd.databricks.v1+cell": {
     "cellMetadata": {
      "byteLimit": 2048000,
      "rowLimit": 10000
     },
     "inputWidgets": {},
     "nuid": "aafa470b-943b-4a91-9f34-76dc6daf1f2d",
     "showTitle": false,
     "tableResultSettingsMap": {},
     "title": ""
    }
   },
   "source": [
    "#### To access Azure data lake [Azure data lake is a blob storage in Azure], we need to set azure storage account configuration in spark code. We use App registration in Azure as a medium to grant access to Azure resources. We have set App credentials unde Azure Key Vault and Databricks Secrets Scope, The app in turn has access to Azure blob storage"
   ]
  },
  {
   "cell_type": "code",
   "execution_count": 0,
   "metadata": {
    "application/vnd.databricks.v1+cell": {
     "cellMetadata": {
      "byteLimit": 2048000,
      "rowLimit": 10000
     },
     "inputWidgets": {},
     "nuid": "977a19bf-e439-4eee-a8cc-c09b1a9a1bc7",
     "showTitle": false,
     "tableResultSettingsMap": {},
     "title": ""
    }
   },
   "outputs": [],
   "source": [
    "\n",
    "spark.conf.set(\"fs.azure.account.auth.type.onkardbstorageacct.dfs.core.windows.net\", \"OAuth\")\n",
    "spark.conf.set(\"fs.azure.account.oauth.provider.type.onkardbstorageacct.dfs.core.windows.net\", \"org.apache.hadoop.fs.azurebfs.oauth2.ClientCredsTokenProvider\")\n",
    "spark.conf.set(\"fs.azure.account.oauth2.client.id.onkardbstorageacct.dfs.core.windows.net\", app_client_id)\n",
    "spark.conf.set(\"fs.azure.account.oauth2.client.secret.onkardbstorageacct.dfs.core.windows.net\", app_client_secret)\n",
    "spark.conf.set(\"fs.azure.account.oauth2.client.endpoint.onkardbstorageacct.dfs.core.windows.net\", f\"https://login.microsoftonline.com/{app_tenant_id}/oauth2/token\")"
   ]
  },
  {
   "cell_type": "code",
   "execution_count": 0,
   "metadata": {
    "application/vnd.databricks.v1+cell": {
     "cellMetadata": {
      "byteLimit": 2048000,
      "rowLimit": 10000
     },
     "inputWidgets": {},
     "nuid": "419d9313-b789-4840-9851-58963d677c8f",
     "showTitle": false,
     "tableResultSettingsMap": {},
     "title": ""
    }
   },
   "outputs": [],
   "source": [
    "dbutils.fs.ls(\"/\")"
   ]
  },
  {
   "cell_type": "markdown",
   "metadata": {
    "application/vnd.databricks.v1+cell": {
     "cellMetadata": {
      "byteLimit": 2048000,
      "rowLimit": 10000
     },
     "inputWidgets": {},
     "nuid": "0ca21078-46ef-47a7-85aa-af456d3d8554",
     "showTitle": false,
     "tableResultSettingsMap": {},
     "title": ""
    }
   },
   "source": [
    "#### Following code lists all the files in folder names Source in Azure storage account named 'onkardbstorageacct'"
   ]
  },
  {
   "cell_type": "code",
   "execution_count": 0,
   "metadata": {
    "application/vnd.databricks.v1+cell": {
     "cellMetadata": {
      "byteLimit": 2048000,
      "rowLimit": 10000
     },
     "inputWidgets": {},
     "nuid": "64d62bc0-c060-4e6f-a22d-5f73c36c1d48",
     "showTitle": false,
     "tableResultSettingsMap": {},
     "title": ""
    }
   },
   "outputs": [],
   "source": [
    "dbutils.fs.ls(\"abfss://source@onkardbstorageacct.dfs.core.windows.net/\")\n"
   ]
  },
  {
   "cell_type": "markdown",
   "metadata": {
    "application/vnd.databricks.v1+cell": {
     "cellMetadata": {
      "byteLimit": 2048000,
      "rowLimit": 10000
     },
     "inputWidgets": {},
     "nuid": "c0e5132c-7f6f-49b8-b731-40ae45a70878",
     "showTitle": false,
     "tableResultSettingsMap": {},
     "title": ""
    }
   },
   "source": [
    "#### Printing contnt of Sales.csv file on the screen using dbutils.fs.head "
   ]
  },
  {
   "cell_type": "code",
   "execution_count": 0,
   "metadata": {
    "application/vnd.databricks.v1+cell": {
     "cellMetadata": {
      "byteLimit": 2048000,
      "rowLimit": 10000
     },
     "inputWidgets": {},
     "nuid": "fbaa8ffa-e949-407a-9ea4-0365f83a52d8",
     "showTitle": false,
     "tableResultSettingsMap": {},
     "title": ""
    }
   },
   "outputs": [],
   "source": [
    "dbutils.fs.head(\"abfss://source@onkardbstorageacct.dfs.core.windows.net/Sales.csv\")"
   ]
  },
  {
   "cell_type": "code",
   "execution_count": 0,
   "metadata": {
    "application/vnd.databricks.v1+cell": {
     "cellMetadata": {
      "byteLimit": 2048000,
      "rowLimit": 10000
     },
     "inputWidgets": {},
     "nuid": "fa784a91-69d7-4708-984b-d6fc3d87b261",
     "showTitle": false,
     "tableResultSettingsMap": {},
     "title": ""
    }
   },
   "outputs": [],
   "source": [
    "sales_df = spark.read.format(\"csv\").option(\"header\", True).option(\"inferSchema\", True).load(\"abfss://source@onkardbstorageacct.dfs.core.windows.net/Sales.csv\")"
   ]
  },
  {
   "cell_type": "code",
   "execution_count": 0,
   "metadata": {
    "application/vnd.databricks.v1+cell": {
     "cellMetadata": {
      "byteLimit": 2048000,
      "rowLimit": 10000
     },
     "inputWidgets": {},
     "nuid": "219e39d6-f698-4917-b415-74efdb7df280",
     "showTitle": false,
     "tableResultSettingsMap": {},
     "title": ""
    }
   },
   "outputs": [],
   "source": [
    "sales_df.show(10, truncate=False)"
   ]
  },
  {
   "cell_type": "code",
   "execution_count": 0,
   "metadata": {
    "application/vnd.databricks.v1+cell": {
     "cellMetadata": {
      "byteLimit": 2048000,
      "rowLimit": 10000
     },
     "inputWidgets": {},
     "nuid": "d889679d-bb11-461f-b79c-f6c19ad910d7",
     "showTitle": false,
     "tableResultSettingsMap": {},
     "title": ""
    }
   },
   "outputs": [],
   "source": [
    "sales_df.printSchema()"
   ]
  },
  {
   "cell_type": "code",
   "execution_count": 0,
   "metadata": {
    "application/vnd.databricks.v1+cell": {
     "cellMetadata": {
      "byteLimit": 2048000,
      "rowLimit": 10000
     },
     "inputWidgets": {},
     "nuid": "f309f9ca-04aa-4708-af3a-3a375b7a120e",
     "showTitle": false,
     "tableResultSettingsMap": {},
     "title": ""
    }
   },
   "outputs": [],
   "source": [
    "display(sales_df)"
   ]
  },
  {
   "cell_type": "code",
   "execution_count": 0,
   "metadata": {
    "application/vnd.databricks.v1+cell": {
     "cellMetadata": {
      "byteLimit": 2048000,
      "rowLimit": 10000
     },
     "inputWidgets": {},
     "nuid": "ee200b03-982e-474a-b951-069870bd4ad3",
     "showTitle": false,
     "tableResultSettingsMap": {},
     "title": ""
    }
   },
   "outputs": [],
   "source": [
    "item_types = [row.Item_Type for row in sales_df.select('Item_Type').distinct().collect()]\n",
    "dbutils.widgets.dropdown(\"item_type\", item_types[0], item_types)\n",
    "item_type = dbutils.widgets.get(\"item_type\")\n",
    "\n"
   ]
  },
  {
   "cell_type": "code",
   "execution_count": 0,
   "metadata": {
    "application/vnd.databricks.v1+cell": {
     "cellMetadata": {
      "byteLimit": 2048000,
      "rowLimit": 10000
     },
     "inputWidgets": {},
     "nuid": "06b402d7-f018-4aa2-af3f-35b6e963ed49",
     "showTitle": false,
     "tableResultSettingsMap": {},
     "title": ""
    }
   },
   "outputs": [],
   "source": [
    "sales_df.filter(sales_df.Item_Type == item_type).display()"
   ]
  }
 ],
 "metadata": {
  "application/vnd.databricks.v1+notebook": {
   "computePreferences": {
    "hardware": {
     "accelerator": null,
     "gpuPoolId": null,
     "memory": null
    }
   },
   "dashboards": [],
   "environmentMetadata": {
    "base_environment": "",
    "environment_version": "3"
   },
   "inputWidgetPreferences": null,
   "language": "python",
   "notebookMetadata": {
    "pythonIndentUnit": 4
   },
   "notebookName": "Databricks101",
   "widgets": {
    "env": {
     "currentValue": "dev",
     "nuid": "4915def7-7747-4a70-9938-e9ab49c86bf7",
     "typedWidgetInfo": {
      "autoCreated": false,
      "defaultValue": "dev",
      "label": null,
      "name": "env",
      "options": {
       "widgetDisplayType": "Dropdown",
       "choices": [
        "dev",
        "test",
        "prod"
       ],
       "fixedDomain": true,
       "multiselect": false
      },
      "parameterDataType": "String"
     },
     "widgetInfo": {
      "widgetType": "dropdown",
      "defaultValue": "dev",
      "label": null,
      "name": "env",
      "options": {
       "widgetType": "dropdown",
       "autoCreated": null,
       "choices": [
        "dev",
        "test",
        "prod"
       ]
      }
     }
    },
    "env1": {
     "currentValue": "dev,test,prod",
     "nuid": "724efcc2-af18-44b1-96e3-bf5621ffe542",
     "typedWidgetInfo": {
      "autoCreated": false,
      "defaultValue": "dev",
      "label": null,
      "name": "env1",
      "options": {
       "widgetDisplayType": "Dropdown",
       "choices": [
        "dev",
        "test",
        "prod"
       ],
       "fixedDomain": true,
       "multiselect": true
      },
      "parameterDataType": "String"
     },
     "widgetInfo": {
      "widgetType": "multiselect",
      "defaultValue": "dev",
      "label": null,
      "name": "env1",
      "options": {
       "widgetType": "dropdown",
       "autoCreated": null,
       "choices": [
        "dev",
        "test",
        "prod"
       ]
      }
     }
    },
    "item_type": {
     "currentValue": "Hard Drinks",
     "nuid": "f32a828a-5638-4b14-a6fc-f17e6ebc5710",
     "typedWidgetInfo": {
      "autoCreated": false,
      "defaultValue": "Starchy Foods",
      "label": null,
      "name": "item_type",
      "options": {
       "widgetDisplayType": "Dropdown",
       "choices": [
        "Starchy Foods",
        "Baking Goods",
        "Breads",
        "Fruits and Vegetables",
        "Meat",
        "Hard Drinks",
        "Soft Drinks",
        "Household",
        "Breakfast",
        "Dairy",
        "Snack Foods",
        "Others",
        "Seafood",
        "Canned",
        "Frozen Foods",
        "Health and Hygiene"
       ],
       "fixedDomain": true,
       "multiselect": false
      },
      "parameterDataType": "String"
     },
     "widgetInfo": {
      "widgetType": "dropdown",
      "defaultValue": "Starchy Foods",
      "label": null,
      "name": "item_type",
      "options": {
       "widgetType": "dropdown",
       "autoCreated": null,
       "choices": [
        "Starchy Foods",
        "Baking Goods",
        "Breads",
        "Fruits and Vegetables",
        "Meat",
        "Hard Drinks",
        "Soft Drinks",
        "Household",
        "Breakfast",
        "Dairy",
        "Snack Foods",
        "Others",
        "Seafood",
        "Canned",
        "Frozen Foods",
        "Health and Hygiene"
       ]
      }
     }
    },
    "user_name": {
     "currentValue": "onkar",
     "nuid": "ca7b2df8-e2ce-4048-967e-9f5ea7b1ca04",
     "typedWidgetInfo": {
      "autoCreated": false,
      "defaultValue": "",
      "label": null,
      "name": "user_name",
      "options": {
       "widgetDisplayType": "Text",
       "validationRegex": null
      },
      "parameterDataType": "String"
     },
     "widgetInfo": {
      "widgetType": "text",
      "defaultValue": "",
      "label": null,
      "name": "user_name",
      "options": {
       "widgetType": "text",
       "autoCreated": null,
       "validationRegex": null
      }
     }
    }
   }
  },
  "language_info": {
   "name": "python"
  }
 },
 "nbformat": 4,
 "nbformat_minor": 0
}
